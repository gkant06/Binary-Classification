{
 "cells": [
  {
   "cell_type": "code",
   "execution_count": 88,
   "id": "b70f0e6d-64bf-44e7-8438-0bcbb58fb52b",
   "metadata": {},
   "outputs": [],
   "source": [
    "import pandas as pd\n",
    "import numpy as np\n",
    "import matplotlib.pyplot as plt\n",
    "import seaborn as sns\n",
    "from tqdm import tqdm\n",
    "from tqdm.notebook import tqdm\n",
    "tqdm.pandas()\n",
    "from sklearn import preprocessing\n",
    "from sklearn import metrics\n",
    "from sklearn.model_selection import train_test_split\n",
    "from sklearn.model_selection import RandomizedSearchCV\n",
    "from sklearn.metrics import precision_recall_fscore_support\n",
    "from sklearn.linear_model import LogisticRegression\n",
    "from sklearn.linear_model import LogisticRegressionCV\n",
    "from sklearn.tree import DecisionTreeClassifier\n",
    "from sklearn.ensemble import RandomForestClassifier\n",
    "from sklearn.svm import SVC"
   ]
  },
  {
   "cell_type": "code",
   "execution_count": 2,
   "id": "a0ad3956-f902-46d3-b200-be4ea2e6186c",
   "metadata": {},
   "outputs": [
    {
     "name": "stdout",
     "output_type": "stream",
     "text": [
      "<class 'pandas.core.frame.DataFrame'>\n",
      "RangeIndex: 33029 entries, 0 to 33028\n",
      "Data columns (total 2 columns):\n",
      " #   Column                Non-Null Count  Dtype \n",
      "---  ------                --------------  ----- \n",
      " 0   CunstructedAASeq_cln  33029 non-null  object\n",
      " 1   Id                    33029 non-null  int64 \n",
      "dtypes: int64(1), object(1)\n",
      "memory usage: 516.2+ KB\n"
     ]
    }
   ],
   "source": [
    "# Importing files\n",
    "\n",
    "X_train_0 = pd.read_csv(r'C:\\Users\\kantg\\OneDrive\\Desktop\\CMU\\ML for Science\\HW4\\X_train_kaggle.csv')\n",
    "y_train_0 = pd.read_csv(r'C:\\Users\\kantg\\OneDrive\\Desktop\\CMU\\ML for Science\\HW4\\y_train_kaggle.csv')\n",
    "X_test_0 = pd.read_csv(r'C:\\Users\\kantg\\OneDrive\\Desktop\\CMU\\ML for Science\\HW4\\X_test_kaggle.csv')\n",
    "X_train_0.info()"
   ]
  },
  {
   "cell_type": "code",
   "execution_count": 3,
   "id": "f0abb2f1-a99b-458b-9760-3b7b9b7b6122",
   "metadata": {},
   "outputs": [],
   "source": [
    "# Discarding records with length 235 \n",
    "length = [len(X_train_0.CunstructedAASeq_cln[i]) for i in range(len(X_train_0))]\n",
    "X_train_0['_length'] = length\n",
    "X_train_0 = X_train_0[X_train_0['_length'] == 237]\n",
    "\n",
    "# removed 2000 records with length 235, only ones with 237 are remaining\n",
    "X_train_0['_length'].unique()\n",
    "X_train_0.drop(columns = ['_length'] , inplace = True)\n",
    "X_train_0 = X_train_0.sort_values(by = [\"Id\"])\n",
    "\n",
    "## Use X_train to get only IDs that we want for the model\n",
    "y_train = y_train_0[y_train_0['Id'].isin(list(X_train_0.Id))].sort_values(by = [\"Id\"])\n"
   ]
  },
  {
   "cell_type": "code",
   "execution_count": 4,
   "id": "6bd5c757-0b85-4390-8dfd-40704f78ed39",
   "metadata": {},
   "outputs": [],
   "source": [
    "# Reading descriptor files\n",
    "\n",
    "zscale = pd.read_csv(r'C:\\Users\\kantg\\OneDrive\\Desktop\\CMU\\ML for Science\\HW4\\descriptors\\Z-scale.csv',skiprows=2,usecols = range(1,5))\n",
    "dpps = pd.read_csv(r'C:\\Users\\kantg\\OneDrive\\Desktop\\CMU\\ML for Science\\HW4\\descriptors\\DPPS.csv',skiprows=2,usecols = range(2,12))\n",
    "mswhim = pd.read_csv(r'C:\\Users\\kantg\\OneDrive\\Desktop\\CMU\\ML for Science\\HW4\\descriptors\\MS-WHIM.csv',skiprows=2,usecols = range(2,5))\n",
    "physical = pd.read_csv(r'C:\\Users\\kantg\\OneDrive\\Desktop\\CMU\\ML for Science\\HW4\\descriptors\\Physical.csv',skiprows=2,usecols = range(2,4))\n",
    "stscale = pd.read_csv(r'C:\\Users\\kantg\\OneDrive\\Desktop\\CMU\\ML for Science\\HW4\\descriptors\\ST-scale.csv',skiprows=2,usecols = range(2,10))\n",
    "tscale = pd.read_csv(r'C:\\Users\\kantg\\OneDrive\\Desktop\\CMU\\ML for Science\\HW4\\descriptors\\T-scale.csv',skiprows=2,usecols = range(2,7))\n",
    "vhsescale = pd.read_csv(r'C:\\Users\\kantg\\OneDrive\\Desktop\\CMU\\ML for Science\\HW4\\descriptors\\VHSE-scale.csv',skiprows=2,usecols = range(2,10))\n"
   ]
  },
  {
   "cell_type": "code",
   "execution_count": 5,
   "id": "679b86c0-12a4-49a2-a834-de3812b0191a",
   "metadata": {},
   "outputs": [],
   "source": [
    "# Creating a single file with all descriptors\n",
    "\n",
    "descriptor_tables = [zscale, dpps, mswhim, physical, stscale, tscale, vhsescale]\n",
    "consol_desc = pd.concat(descriptor_tables, axis = 'columns')\n",
    "consol_desc = consol_desc.set_index(consol_desc.columns[0])"
   ]
  },
  {
   "cell_type": "code",
   "execution_count": 6,
   "id": "1ad036ec-7a48-42cc-864e-36976515adbd",
   "metadata": {},
   "outputs": [],
   "source": [
    "# Creating function to assign descriptor according to amino acid\n",
    "\n",
    "consol_desc = consol_desc.T\n",
    "def encode(seq):    \n",
    "    x = pd.DataFrame([consol_desc[i] for i in seq]).reset_index(drop=True)\n",
    "    x = x.T\n",
    "    e = x.values.flatten()\n",
    "    e = list(e)\n",
    "    return e"
   ]
  },
  {
   "cell_type": "code",
   "execution_count": 7,
   "id": "37a8999f-2051-4002-a8e9-35ad5bba6c97",
   "metadata": {
    "tags": []
   },
   "outputs": [
    {
     "data": {
      "application/vnd.jupyter.widget-view+json": {
       "model_id": "99f841625daa4b6bb2212557661da6a6",
       "version_major": 2,
       "version_minor": 0
      },
      "text/plain": [
       "  0%|          | 0/31029 [00:00<?, ?it/s]"
      ]
     },
     "metadata": {},
     "output_type": "display_data"
    }
   ],
   "source": [
    "# Using the function created above to create a matrix for the training data\n",
    "X_train = X_train_0.copy()\n",
    "\n",
    "X_train['features'] = X_train['CunstructedAASeq_cln'].progress_apply(encode)\n",
    "X_train = pd.DataFrame(X_train['features'].to_list(), columns=range(0,9243))\n",
    "X_train.to_csv(r'C:\\Users\\kantg\\OneDrive\\Desktop\\CMU\\ML for Science\\HW4\\X_train_output.csv',index=None, header=True)"
   ]
  },
  {
   "cell_type": "code",
   "execution_count": 8,
   "id": "9e4074ea-a184-4c28-bfed-a2ca6b2f2e1a",
   "metadata": {},
   "outputs": [
    {
     "data": {
      "text/html": [
       "<div>\n",
       "<style scoped>\n",
       "    .dataframe tbody tr th:only-of-type {\n",
       "        vertical-align: middle;\n",
       "    }\n",
       "\n",
       "    .dataframe tbody tr th {\n",
       "        vertical-align: top;\n",
       "    }\n",
       "\n",
       "    .dataframe thead th {\n",
       "        text-align: right;\n",
       "    }\n",
       "</style>\n",
       "<table border=\"1\" class=\"dataframe\">\n",
       "  <thead>\n",
       "    <tr style=\"text-align: right;\">\n",
       "      <th></th>\n",
       "      <th>0</th>\n",
       "      <th>1</th>\n",
       "      <th>2</th>\n",
       "      <th>3</th>\n",
       "      <th>4</th>\n",
       "      <th>5</th>\n",
       "      <th>6</th>\n",
       "      <th>7</th>\n",
       "      <th>8</th>\n",
       "      <th>9</th>\n",
       "      <th>...</th>\n",
       "      <th>9233</th>\n",
       "      <th>9234</th>\n",
       "      <th>9235</th>\n",
       "      <th>9236</th>\n",
       "      <th>9237</th>\n",
       "      <th>9238</th>\n",
       "      <th>9239</th>\n",
       "      <th>9240</th>\n",
       "      <th>9241</th>\n",
       "      <th>9242</th>\n",
       "    </tr>\n",
       "  </thead>\n",
       "  <tbody>\n",
       "    <tr>\n",
       "      <th>0</th>\n",
       "      <td>1.96</td>\n",
       "      <td>2.84</td>\n",
       "      <td>2.23</td>\n",
       "      <td>3.08</td>\n",
       "      <td>3.08</td>\n",
       "      <td>-4.19</td>\n",
       "      <td>-1.39</td>\n",
       "      <td>0.92</td>\n",
       "      <td>2.23</td>\n",
       "      <td>-2.69</td>\n",
       "      <td>...</td>\n",
       "      <td>-0.13</td>\n",
       "      <td>0.39</td>\n",
       "      <td>0.65</td>\n",
       "      <td>-1.34</td>\n",
       "      <td>-0.68</td>\n",
       "      <td>0.56</td>\n",
       "      <td>0.02</td>\n",
       "      <td>3.56</td>\n",
       "      <td>-0.52</td>\n",
       "      <td>0.13</td>\n",
       "    </tr>\n",
       "    <tr>\n",
       "      <th>1</th>\n",
       "      <td>1.96</td>\n",
       "      <td>2.84</td>\n",
       "      <td>2.23</td>\n",
       "      <td>3.08</td>\n",
       "      <td>3.08</td>\n",
       "      <td>-4.19</td>\n",
       "      <td>-4.92</td>\n",
       "      <td>0.92</td>\n",
       "      <td>2.23</td>\n",
       "      <td>-2.69</td>\n",
       "      <td>...</td>\n",
       "      <td>-0.13</td>\n",
       "      <td>0.39</td>\n",
       "      <td>0.65</td>\n",
       "      <td>-1.34</td>\n",
       "      <td>-0.68</td>\n",
       "      <td>0.56</td>\n",
       "      <td>0.02</td>\n",
       "      <td>-0.62</td>\n",
       "      <td>-0.52</td>\n",
       "      <td>0.13</td>\n",
       "    </tr>\n",
       "    <tr>\n",
       "      <th>2</th>\n",
       "      <td>1.96</td>\n",
       "      <td>2.84</td>\n",
       "      <td>2.23</td>\n",
       "      <td>3.08</td>\n",
       "      <td>3.08</td>\n",
       "      <td>-4.19</td>\n",
       "      <td>-4.92</td>\n",
       "      <td>0.92</td>\n",
       "      <td>2.23</td>\n",
       "      <td>-2.69</td>\n",
       "      <td>...</td>\n",
       "      <td>-0.13</td>\n",
       "      <td>0.39</td>\n",
       "      <td>0.65</td>\n",
       "      <td>-1.34</td>\n",
       "      <td>-0.68</td>\n",
       "      <td>0.56</td>\n",
       "      <td>0.02</td>\n",
       "      <td>-0.62</td>\n",
       "      <td>-0.52</td>\n",
       "      <td>0.13</td>\n",
       "    </tr>\n",
       "    <tr>\n",
       "      <th>3</th>\n",
       "      <td>1.96</td>\n",
       "      <td>2.84</td>\n",
       "      <td>2.23</td>\n",
       "      <td>3.08</td>\n",
       "      <td>2.23</td>\n",
       "      <td>-4.19</td>\n",
       "      <td>-4.92</td>\n",
       "      <td>0.92</td>\n",
       "      <td>2.23</td>\n",
       "      <td>-2.69</td>\n",
       "      <td>...</td>\n",
       "      <td>-0.13</td>\n",
       "      <td>0.39</td>\n",
       "      <td>0.65</td>\n",
       "      <td>-1.34</td>\n",
       "      <td>-0.68</td>\n",
       "      <td>0.56</td>\n",
       "      <td>0.02</td>\n",
       "      <td>-0.62</td>\n",
       "      <td>-0.52</td>\n",
       "      <td>0.13</td>\n",
       "    </tr>\n",
       "    <tr>\n",
       "      <th>4</th>\n",
       "      <td>1.96</td>\n",
       "      <td>2.84</td>\n",
       "      <td>2.23</td>\n",
       "      <td>3.08</td>\n",
       "      <td>3.08</td>\n",
       "      <td>-4.19</td>\n",
       "      <td>-4.92</td>\n",
       "      <td>0.92</td>\n",
       "      <td>2.23</td>\n",
       "      <td>-2.69</td>\n",
       "      <td>...</td>\n",
       "      <td>-0.13</td>\n",
       "      <td>0.39</td>\n",
       "      <td>0.65</td>\n",
       "      <td>-1.34</td>\n",
       "      <td>-0.68</td>\n",
       "      <td>0.56</td>\n",
       "      <td>0.02</td>\n",
       "      <td>-0.62</td>\n",
       "      <td>-0.52</td>\n",
       "      <td>0.13</td>\n",
       "    </tr>\n",
       "  </tbody>\n",
       "</table>\n",
       "<p>5 rows × 9243 columns</p>\n",
       "</div>"
      ],
      "text/plain": [
       "   0     1     2     3     4     5     6     7     8     9     ...  9233  \\\n",
       "0  1.96  2.84  2.23  3.08  3.08 -4.19 -1.39  0.92  2.23 -2.69  ... -0.13   \n",
       "1  1.96  2.84  2.23  3.08  3.08 -4.19 -4.92  0.92  2.23 -2.69  ... -0.13   \n",
       "2  1.96  2.84  2.23  3.08  3.08 -4.19 -4.92  0.92  2.23 -2.69  ... -0.13   \n",
       "3  1.96  2.84  2.23  3.08  2.23 -4.19 -4.92  0.92  2.23 -2.69  ... -0.13   \n",
       "4  1.96  2.84  2.23  3.08  3.08 -4.19 -4.92  0.92  2.23 -2.69  ... -0.13   \n",
       "\n",
       "   9234  9235  9236  9237  9238  9239  9240  9241  9242  \n",
       "0  0.39  0.65 -1.34 -0.68  0.56  0.02  3.56 -0.52  0.13  \n",
       "1  0.39  0.65 -1.34 -0.68  0.56  0.02 -0.62 -0.52  0.13  \n",
       "2  0.39  0.65 -1.34 -0.68  0.56  0.02 -0.62 -0.52  0.13  \n",
       "3  0.39  0.65 -1.34 -0.68  0.56  0.02 -0.62 -0.52  0.13  \n",
       "4  0.39  0.65 -1.34 -0.68  0.56  0.02 -0.62 -0.52  0.13  \n",
       "\n",
       "[5 rows x 9243 columns]"
      ]
     },
     "execution_count": 8,
     "metadata": {},
     "output_type": "execute_result"
    }
   ],
   "source": [
    "X_train.head(5)"
   ]
  },
  {
   "cell_type": "code",
   "execution_count": 9,
   "id": "f38390fb-1a94-471f-8a5c-d26d3c5f0f3e",
   "metadata": {},
   "outputs": [
    {
     "data": {
      "application/vnd.jupyter.widget-view+json": {
       "model_id": "6a788ad5c3944bff8e5abde12ca6c47e",
       "version_major": 2,
       "version_minor": 0
      },
      "text/plain": [
       "  0%|          | 0/20686 [00:00<?, ?it/s]"
      ]
     },
     "metadata": {},
     "output_type": "display_data"
    }
   ],
   "source": [
    "# Similarly, creating matrix for the test data\n",
    "X_test = X_test_0.copy()\n",
    "\n",
    "X_test['features'] = X_test['CunstructedAASeq_cln'].progress_apply(encode)\n",
    "X_test = pd.DataFrame(X_test['features'].to_list(), columns=range(0,9243))\n",
    "X_test.to_csv(r'C:\\Users\\kantg\\OneDrive\\Desktop\\CMU\\ML for Science\\HW4\\X_test_output.csv',index=None, header=True)"
   ]
  },
  {
   "cell_type": "code",
   "execution_count": 10,
   "id": "2170021d-9dc0-43f4-b1cf-072a0bc1f7d1",
   "metadata": {},
   "outputs": [
    {
     "data": {
      "text/html": [
       "<div>\n",
       "<style scoped>\n",
       "    .dataframe tbody tr th:only-of-type {\n",
       "        vertical-align: middle;\n",
       "    }\n",
       "\n",
       "    .dataframe tbody tr th {\n",
       "        vertical-align: top;\n",
       "    }\n",
       "\n",
       "    .dataframe thead th {\n",
       "        text-align: right;\n",
       "    }\n",
       "</style>\n",
       "<table border=\"1\" class=\"dataframe\">\n",
       "  <thead>\n",
       "    <tr style=\"text-align: right;\">\n",
       "      <th></th>\n",
       "      <th>0</th>\n",
       "      <th>1</th>\n",
       "      <th>2</th>\n",
       "      <th>3</th>\n",
       "      <th>4</th>\n",
       "      <th>5</th>\n",
       "      <th>6</th>\n",
       "      <th>7</th>\n",
       "      <th>8</th>\n",
       "      <th>9</th>\n",
       "      <th>...</th>\n",
       "      <th>9233</th>\n",
       "      <th>9234</th>\n",
       "      <th>9235</th>\n",
       "      <th>9236</th>\n",
       "      <th>9237</th>\n",
       "      <th>9238</th>\n",
       "      <th>9239</th>\n",
       "      <th>9240</th>\n",
       "      <th>9241</th>\n",
       "      <th>9242</th>\n",
       "    </tr>\n",
       "  </thead>\n",
       "  <tbody>\n",
       "    <tr>\n",
       "      <th>0</th>\n",
       "      <td>1.96</td>\n",
       "      <td>2.84</td>\n",
       "      <td>2.23</td>\n",
       "      <td>3.08</td>\n",
       "      <td>3.08</td>\n",
       "      <td>-4.19</td>\n",
       "      <td>-4.92</td>\n",
       "      <td>0.92</td>\n",
       "      <td>2.23</td>\n",
       "      <td>-2.69</td>\n",
       "      <td>...</td>\n",
       "      <td>-0.13</td>\n",
       "      <td>0.39</td>\n",
       "      <td>0.65</td>\n",
       "      <td>-1.34</td>\n",
       "      <td>-0.68</td>\n",
       "      <td>0.56</td>\n",
       "      <td>0.02</td>\n",
       "      <td>-0.62</td>\n",
       "      <td>-0.52</td>\n",
       "      <td>0.13</td>\n",
       "    </tr>\n",
       "    <tr>\n",
       "      <th>1</th>\n",
       "      <td>1.96</td>\n",
       "      <td>2.84</td>\n",
       "      <td>2.23</td>\n",
       "      <td>3.08</td>\n",
       "      <td>3.08</td>\n",
       "      <td>-4.19</td>\n",
       "      <td>-4.92</td>\n",
       "      <td>0.92</td>\n",
       "      <td>2.23</td>\n",
       "      <td>-2.69</td>\n",
       "      <td>...</td>\n",
       "      <td>-0.13</td>\n",
       "      <td>0.39</td>\n",
       "      <td>0.65</td>\n",
       "      <td>-1.34</td>\n",
       "      <td>-0.68</td>\n",
       "      <td>0.56</td>\n",
       "      <td>0.02</td>\n",
       "      <td>-0.62</td>\n",
       "      <td>-0.52</td>\n",
       "      <td>0.13</td>\n",
       "    </tr>\n",
       "    <tr>\n",
       "      <th>2</th>\n",
       "      <td>1.96</td>\n",
       "      <td>2.84</td>\n",
       "      <td>2.23</td>\n",
       "      <td>3.08</td>\n",
       "      <td>3.08</td>\n",
       "      <td>-4.19</td>\n",
       "      <td>-4.92</td>\n",
       "      <td>0.92</td>\n",
       "      <td>2.23</td>\n",
       "      <td>-2.69</td>\n",
       "      <td>...</td>\n",
       "      <td>-0.13</td>\n",
       "      <td>0.39</td>\n",
       "      <td>0.65</td>\n",
       "      <td>-1.34</td>\n",
       "      <td>-0.68</td>\n",
       "      <td>0.56</td>\n",
       "      <td>0.02</td>\n",
       "      <td>-0.62</td>\n",
       "      <td>-0.52</td>\n",
       "      <td>0.13</td>\n",
       "    </tr>\n",
       "    <tr>\n",
       "      <th>3</th>\n",
       "      <td>1.96</td>\n",
       "      <td>2.84</td>\n",
       "      <td>2.23</td>\n",
       "      <td>3.08</td>\n",
       "      <td>3.08</td>\n",
       "      <td>-4.19</td>\n",
       "      <td>-4.92</td>\n",
       "      <td>0.92</td>\n",
       "      <td>2.23</td>\n",
       "      <td>-2.69</td>\n",
       "      <td>...</td>\n",
       "      <td>-0.13</td>\n",
       "      <td>0.39</td>\n",
       "      <td>0.65</td>\n",
       "      <td>-1.34</td>\n",
       "      <td>-0.68</td>\n",
       "      <td>0.56</td>\n",
       "      <td>0.02</td>\n",
       "      <td>-0.62</td>\n",
       "      <td>-0.52</td>\n",
       "      <td>0.13</td>\n",
       "    </tr>\n",
       "    <tr>\n",
       "      <th>4</th>\n",
       "      <td>1.96</td>\n",
       "      <td>2.84</td>\n",
       "      <td>2.23</td>\n",
       "      <td>3.08</td>\n",
       "      <td>3.08</td>\n",
       "      <td>-4.19</td>\n",
       "      <td>-4.92</td>\n",
       "      <td>0.92</td>\n",
       "      <td>2.23</td>\n",
       "      <td>-2.69</td>\n",
       "      <td>...</td>\n",
       "      <td>-0.13</td>\n",
       "      <td>0.39</td>\n",
       "      <td>0.65</td>\n",
       "      <td>-1.34</td>\n",
       "      <td>-0.68</td>\n",
       "      <td>0.56</td>\n",
       "      <td>0.02</td>\n",
       "      <td>-0.62</td>\n",
       "      <td>-0.52</td>\n",
       "      <td>0.13</td>\n",
       "    </tr>\n",
       "  </tbody>\n",
       "</table>\n",
       "<p>5 rows × 9243 columns</p>\n",
       "</div>"
      ],
      "text/plain": [
       "   0     1     2     3     4     5     6     7     8     9     ...  9233  \\\n",
       "0  1.96  2.84  2.23  3.08  3.08 -4.19 -4.92  0.92  2.23 -2.69  ... -0.13   \n",
       "1  1.96  2.84  2.23  3.08  3.08 -4.19 -4.92  0.92  2.23 -2.69  ... -0.13   \n",
       "2  1.96  2.84  2.23  3.08  3.08 -4.19 -4.92  0.92  2.23 -2.69  ... -0.13   \n",
       "3  1.96  2.84  2.23  3.08  3.08 -4.19 -4.92  0.92  2.23 -2.69  ... -0.13   \n",
       "4  1.96  2.84  2.23  3.08  3.08 -4.19 -4.92  0.92  2.23 -2.69  ... -0.13   \n",
       "\n",
       "   9234  9235  9236  9237  9238  9239  9240  9241  9242  \n",
       "0  0.39  0.65 -1.34 -0.68  0.56  0.02 -0.62 -0.52  0.13  \n",
       "1  0.39  0.65 -1.34 -0.68  0.56  0.02 -0.62 -0.52  0.13  \n",
       "2  0.39  0.65 -1.34 -0.68  0.56  0.02 -0.62 -0.52  0.13  \n",
       "3  0.39  0.65 -1.34 -0.68  0.56  0.02 -0.62 -0.52  0.13  \n",
       "4  0.39  0.65 -1.34 -0.68  0.56  0.02 -0.62 -0.52  0.13  \n",
       "\n",
       "[5 rows x 9243 columns]"
      ]
     },
     "execution_count": 10,
     "metadata": {},
     "output_type": "execute_result"
    }
   ],
   "source": [
    "X_test.head(5)"
   ]
  },
  {
   "cell_type": "code",
   "execution_count": 11,
   "id": "8faa4b2f-4a65-4961-b7ee-4998ed545a25",
   "metadata": {},
   "outputs": [],
   "source": [
    "# Importing training and test data matrix from local folder\n",
    "\n",
    "X_train = pd.read_csv(r'C:\\Users\\kantg\\OneDrive\\Desktop\\CMU\\ML for Science\\HW4\\X_train_output.csv')\n",
    "X_test = pd.read_csv(r'C:\\Users\\kantg\\OneDrive\\Desktop\\CMU\\ML for Science\\HW4\\X_test_output.csv')"
   ]
  },
  {
   "cell_type": "code",
   "execution_count": 12,
   "id": "a2d752f0-c919-4ac8-98b8-fd6bfd0fe10f",
   "metadata": {},
   "outputs": [
    {
     "data": {
      "text/plain": [
       "0"
      ]
     },
     "execution_count": 12,
     "metadata": {},
     "output_type": "execute_result"
    }
   ],
   "source": [
    "# Checking for nulls\n",
    "X_train.isnull().any().sum()"
   ]
  },
  {
   "cell_type": "code",
   "execution_count": 14,
   "id": "f3dbe26c-78bd-4d7a-b581-36d4a09b93fa",
   "metadata": {},
   "outputs": [],
   "source": [
    "#Scaling the training and test data set\n",
    "\n",
    "scaler = preprocessing.StandardScaler().fit(X_train)\n",
    "X_train = pd.DataFrame(scaler.transform(X_train),columns= X_train.columns, index = X_train.index) \n",
    "\n",
    "scaler = preprocessing.StandardScaler().fit(X_test)\n",
    "X_test = pd.DataFrame(scaler.transform(X_test),columns= X_test.columns, index = X_test.index)\n",
    "\n",
    "yy_train = y_train[['Brightness_Class']]\n"
   ]
  },
  {
   "cell_type": "code",
   "execution_count": 81,
   "id": "ebe081ca-943e-46c6-897b-7abab7291eca",
   "metadata": {},
   "outputs": [],
   "source": [
    "# Splitting into training and test data set for model validation and tuning\n",
    "\n",
    "X_trn, X_tt, y_trn, y_tt = train_test_split(X_train, yy_train, test_size=0.3, random_state=18)"
   ]
  },
  {
   "cell_type": "code",
   "execution_count": 87,
   "id": "3322b927-3acf-440b-831f-cd2a8b702825",
   "metadata": {},
   "outputs": [
    {
     "data": {
      "text/plain": [
       "(0.8485971413446268, 0.8851463279955826, 0.8664864864864865, None)"
      ]
     },
     "execution_count": 87,
     "metadata": {},
     "output_type": "execute_result"
    }
   ],
   "source": [
    "# Logistic Regression\n",
    "# Kaggle public score base model: 0.87619\n",
    "\n",
    "log_reg_base = LogisticRegression(random_state=6, max_iter=10000)\n",
    "log_reg_base.fit(X_trn, y_trn.values.ravel())\n",
    "\n",
    "#Predicting the test set results\n",
    "y_pred = log_reg_base.predict(X_tt)\n",
    "\n",
    "# Obtaining the precision, recall, f1-score respectively for test data\n",
    "precision_recall_fscore_support(y_tt, y_pred, pos_label=1, average='binary')\n"
   ]
  },
  {
   "cell_type": "code",
   "execution_count": 95,
   "id": "6a447add-624b-450a-9fbf-6245d73133ef",
   "metadata": {},
   "outputs": [
    {
     "name": "stderr",
     "output_type": "stream",
     "text": [
      "C:\\Users\\kantg\\anaconda3\\lib\\site-packages\\sklearn\\model_selection\\_search.py:306: UserWarning: The total space of parameters 6 is smaller than n_iter=10. Running 6 iterations. For exhaustive searches, use GridSearchCV.\n",
      "  warnings.warn(\n"
     ]
    },
    {
     "name": "stdout",
     "output_type": "stream",
     "text": [
      "{'random_state': 4, 'max_iter': 8000, 'C': 0.5}\n",
      "LogisticRegression(C=0.5, max_iter=8000, random_state=4)\n"
     ]
    },
    {
     "data": {
      "text/plain": [
       "(0.8489018258798624, 0.8856985091109884, 0.8669098770436428, None)"
      ]
     },
     "execution_count": 95,
     "metadata": {},
     "output_type": "execute_result"
    }
   ],
   "source": [
    "# Logistic regression with hyperparameter tuning\n",
    "# Kaggle public score tuned model: 0.87283\n",
    "\n",
    "param_dist = {\"C\": [0.5,1,2],\n",
    "              \"random_state\": [4,6],\n",
    "              \"max_iter\": [8000]}\n",
    "\n",
    "# Instantiating logistic regression\n",
    "log_reg = LogisticRegression()\n",
    "\n",
    "# Instantiating RandomizedSearchCV object\n",
    "random_search = RandomizedSearchCV(log_reg, param_dist, cv = 2).fit(X_trn, y_trn.values.ravel())\n",
    "\n",
    "# Access the best set of parameters\n",
    "best_params = random_search.best_params_\n",
    "print(best_params)\n",
    "# Stores the optimum model in best_pipe\n",
    "best_pipe = random_search.best_estimator_\n",
    "print(best_pipe)\n",
    "\n",
    "y_pred = best_pipe.predict(X_tt)\n",
    "\n",
    "# Obtaining the precision, recall, f1-score respectively for best model\n",
    "precision_recall_fscore_support(y_tt, y_pred, pos_label=1, average='binary')\n"
   ]
  },
  {
   "cell_type": "code",
   "execution_count": 114,
   "id": "d03bae3e-c139-4e65-9e32-c262e57d0a0e",
   "metadata": {},
   "outputs": [],
   "source": [
    "# Getting csv output for the model\n",
    "\n",
    "y_test = best_pipe.predict(X_test)\n",
    "\n",
    "y_test = pd.DataFrame(y_test, columns = ['Brightness_Class'])\n",
    "y_test_final = pd.concat([X_test_0['Id'], y_test['Brightness_Class']], axis = 1)\n",
    "y_test_final.to_csv(r'C:\\Users\\kantg\\OneDrive\\Desktop\\CMU\\ML for Science\\HW4\\y_test result.csv',index=None)"
   ]
  },
  {
   "cell_type": "code",
   "execution_count": 117,
   "id": "ef63c42e-ac38-4547-b0ab-54d4803f9d27",
   "metadata": {},
   "outputs": [
    {
     "data": {
      "text/plain": [
       "(0.7702569169960475, 0.860850358917725, 0.8130378096479791, None)"
      ]
     },
     "execution_count": 117,
     "metadata": {},
     "output_type": "execute_result"
    }
   ],
   "source": [
    "# Random forest\n",
    "# Kaggle public score base model : 0.82283\n",
    "\n",
    "ran_for_base = RandomForestClassifier(random_state=6)\n",
    "ran_for_base.fit(X_trn, y_trn.values.ravel())\n",
    "\n",
    "#Predicting the test set results\n",
    "y_pred = ran_for_base.predict(X_tt)\n",
    "\n",
    "# Obtaining the precision, recall, f1-score respectively for test data\n",
    "precision_recall_fscore_support(y_tt, y_pred, pos_label=1, average='binary')\n"
   ]
  },
  {
   "cell_type": "code",
   "execution_count": 121,
   "id": "c1c11a6d-b1cc-432a-9149-621aa7a4a99e",
   "metadata": {},
   "outputs": [
    {
     "name": "stderr",
     "output_type": "stream",
     "text": [
      "C:\\Users\\kantg\\anaconda3\\lib\\site-packages\\sklearn\\model_selection\\_search.py:306: UserWarning: The total space of parameters 6 is smaller than n_iter=10. Running 6 iterations. For exhaustive searches, use GridSearchCV.\n",
      "  warnings.warn(\n"
     ]
    },
    {
     "name": "stdout",
     "output_type": "stream",
     "text": [
      "{'random_state': 6, 'n_jobs': -1, 'n_estimators': 1000, 'min_samples_split': 4}\n",
      "RandomForestClassifier(min_samples_split=4, n_estimators=1000, n_jobs=-1,\n",
      "                       random_state=6)\n"
     ]
    },
    {
     "data": {
      "text/plain": [
       "(0.8086910439851617, 0.8426283821093319, 0.8253109789075176, None)"
      ]
     },
     "execution_count": 121,
     "metadata": {},
     "output_type": "execute_result"
    }
   ],
   "source": [
    "# Random forest with hyperparameter tuning\n",
    "# Kaggle public score tuned model: 0.82176\n",
    "\n",
    "param_dist = {\"n_estimators\": [200,600,1000],\n",
    "              \"random_state\": [6],\n",
    "              \"n_jobs\": [-1],\n",
    "              \"min_samples_split\": [2,4]}\n",
    "\n",
    "# Instantiating logistic regression\n",
    "ran_for = RandomForestClassifier()\n",
    "\n",
    "# Instantiating RandomizedSearchCV object\n",
    "random_search = RandomizedSearchCV(ran_for, param_dist, cv = 2).fit(X_trn, y_trn.values.ravel())\n",
    "\n",
    "# Access the best set of parameters\n",
    "best_params = random_search.best_params_\n",
    "print(best_params)\n",
    "# Stores the optimum model in best_pipe\n",
    "best_pipe = random_search.best_estimator_\n",
    "print(best_pipe)\n",
    "\n",
    "y_pred = best_pipe.predict(X_tt)\n",
    "\n",
    "# Obtaining the precision, recall, f1-score respectively for best model\n",
    "precision_recall_fscore_support(y_tt, y_pred, pos_label=1, average='binary')"
   ]
  },
  {
   "cell_type": "code",
   "execution_count": 122,
   "id": "085007eb-29f6-4dcd-bda6-fcb5e16099d6",
   "metadata": {},
   "outputs": [],
   "source": [
    "# Getting csv output for the model\n",
    "y_test = best_pipe.predict(X_test)\n",
    "\n",
    "y_test = pd.DataFrame(y_test, columns = ['Brightness_Class'])\n",
    "y_test_final = pd.concat([X_test_0['Id'], y_test['Brightness_Class']], axis = 1)\n",
    "y_test_final.to_csv(r'C:\\Users\\kantg\\OneDrive\\Desktop\\CMU\\ML for Science\\HW4\\y_test result.csv',index=None)"
   ]
  },
  {
   "cell_type": "code",
   "execution_count": 123,
   "id": "290058a3-dbdf-4c67-af68-6e0bccdb6839",
   "metadata": {},
   "outputs": [
    {
     "name": "stdout",
     "output_type": "stream",
     "text": [
      "(1.0, 1.0, 1.0, None)\n"
     ]
    }
   ],
   "source": [
    "# Decision Tree\n",
    "# Test Accuracy : 0.77804 \n",
    "\n",
    "dec_tree = DecisionTreeClassifier(random_state=6)\n",
    "dec_tree.fit(X_train, yy_train.values.ravel())\n",
    "\n",
    "#Predicting the test set results\n",
    "y_pred = dec_tree.predict(X_tt)\n",
    "# Obtaining the precision, recall, f1-score respectively for test data\n",
    "print(precision_recall_fscore_support(y_tt, y_pred, pos_label=1, average='binary'))\n",
    "\n",
    "#Predicting the test set results\n",
    "y_test = dec_tree.predict(X_test)\n",
    "y_test = pd.DataFrame(y_test, columns = ['Brightness_Class'])\n",
    "y_test_final = pd.concat([X_test_0['Id'], y_test['Brightness_Class']], axis = 1)\n",
    "y_test_final.to_csv(r'C:\\Users\\kantg\\OneDrive\\Desktop\\CMU\\ML for Science\\HW4\\y_test result.csv',index=None)"
   ]
  },
  {
   "cell_type": "code",
   "execution_count": 78,
   "id": "a0f82955-7ca4-4439-a09f-5262e00ba3d7",
   "metadata": {},
   "outputs": [
    {
     "name": "stdout",
     "output_type": "stream",
     "text": [
      "0.9318379580392536\n"
     ]
    }
   ],
   "source": [
    "# Support Vector Classifier\n",
    "# Test Accuracy : \n",
    "\n",
    "model = SVC(random_state=6)\n",
    "model.fit(X_train, yy_train.values.ravel())\n",
    "\n",
    "#Predicting the test set results\n",
    "y_test = model.predict(X_test)\n",
    "\n",
    "y_test = pd.DataFrame(y_test, columns = ['Brightness_Class'])\n",
    "y_test_final = pd.concat([X_test_0['Id'], y_test['Brightness_Class']], axis = 1)\n",
    "y_test_final.to_csv(r'C:\\Users\\kantg\\OneDrive\\Desktop\\CMU\\ML for Science\\HW4\\y_test result.csv',index=None)\n",
    "\n",
    "Training_accuracy = model.score(X_train, yy_train)\n",
    "print(Training_accuracy)"
   ]
  },
  {
   "cell_type": "code",
   "execution_count": null,
   "id": "3c579117-c8ba-4f0d-81bc-5097552788ba",
   "metadata": {},
   "outputs": [],
   "source": []
  }
 ],
 "metadata": {
  "kernelspec": {
   "display_name": "Python 3 (ipykernel)",
   "language": "python",
   "name": "python3"
  },
  "language_info": {
   "codemirror_mode": {
    "name": "ipython",
    "version": 3
   },
   "file_extension": ".py",
   "mimetype": "text/x-python",
   "name": "python",
   "nbconvert_exporter": "python",
   "pygments_lexer": "ipython3",
   "version": "3.9.12"
  }
 },
 "nbformat": 4,
 "nbformat_minor": 5
}
